{
 "cells": [
  {
   "cell_type": "code",
   "execution_count": 3,
   "id": "c1705293-affc-4295-81d6-fef125573ff0",
   "metadata": {},
   "outputs": [],
   "source": [
    "numero1 = 100\n",
    "numero2 = 200"
   ]
  },
  {
   "cell_type": "code",
   "execution_count": 5,
   "id": "9bcbc521-06bc-4450-8904-9fcab7534e59",
   "metadata": {},
   "outputs": [
    {
     "data": {
      "text/plain": [
       "False"
      ]
     },
     "execution_count": 5,
     "metadata": {},
     "output_type": "execute_result"
    }
   ],
   "source": [
    "numero1 > numero2"
   ]
  },
  {
   "cell_type": "code",
   "execution_count": 7,
   "id": "43143a05-b286-4734-a18a-536b6a251038",
   "metadata": {},
   "outputs": [
    {
     "data": {
      "text/plain": [
       "True"
      ]
     },
     "execution_count": 7,
     "metadata": {},
     "output_type": "execute_result"
    }
   ],
   "source": [
    "numero2 > numero1"
   ]
  },
  {
   "cell_type": "code",
   "execution_count": 9,
   "id": "48daecd3-9ea6-433b-91e3-5451a5f727a5",
   "metadata": {},
   "outputs": [
    {
     "data": {
      "text/plain": [
       "False"
      ]
     },
     "execution_count": 9,
     "metadata": {},
     "output_type": "execute_result"
    }
   ],
   "source": [
    "numero2 == numero1"
   ]
  },
  {
   "cell_type": "code",
   "execution_count": 13,
   "id": "bcdb6a6b-30ab-4575-8b18-232f4cfb57fc",
   "metadata": {},
   "outputs": [
    {
     "data": {
      "text/plain": [
       "True"
      ]
     },
     "execution_count": 13,
     "metadata": {},
     "output_type": "execute_result"
    }
   ],
   "source": [
    "numero1 != numero2"
   ]
  },
  {
   "cell_type": "markdown",
   "id": "d527c95f-24f6-4cac-b955-d03891e1c521",
   "metadata": {},
   "source": [
    "s1 = \"Wesley\"\n",
    "\n",
    "s2 = \"Amaro\""
   ]
  },
  {
   "cell_type": "code",
   "execution_count": 19,
   "id": "2fd2a683-6f1d-4f8e-a9fe-0f1b5332cb58",
   "metadata": {},
   "outputs": [
    {
     "ename": "NameError",
     "evalue": "name 's1' is not defined",
     "output_type": "error",
     "traceback": [
      "\u001b[1;31m---------------------------------------------------------------------------\u001b[0m",
      "\u001b[1;31mNameError\u001b[0m                                 Traceback (most recent call last)",
      "Cell \u001b[1;32mIn[19], line 1\u001b[0m\n\u001b[1;32m----> 1\u001b[0m s1 \u001b[38;5;241m==\u001b[39m s2\n",
      "\u001b[1;31mNameError\u001b[0m: name 's1' is not defined"
     ]
    }
   ],
   "source": [
    "s1 == s2"
   ]
  },
  {
   "cell_type": "code",
   "execution_count": 21,
   "id": "1a3f3d5c-87f1-4bbf-bf43-eea0a50ad1dd",
   "metadata": {},
   "outputs": [
    {
     "ename": "NameError",
     "evalue": "name 's1' is not defined",
     "output_type": "error",
     "traceback": [
      "\u001b[1;31m---------------------------------------------------------------------------\u001b[0m",
      "\u001b[1;31mNameError\u001b[0m                                 Traceback (most recent call last)",
      "Cell \u001b[1;32mIn[21], line 1\u001b[0m\n\u001b[1;32m----> 1\u001b[0m s1\n",
      "\u001b[1;31mNameError\u001b[0m: name 's1' is not defined"
     ]
    }
   ],
   "source": [
    "s1"
   ]
  },
  {
   "cell_type": "code",
   "execution_count": 25,
   "id": "38964aa7-9c77-4787-93e5-62e5acb302fe",
   "metadata": {},
   "outputs": [
    {
     "ename": "NameError",
     "evalue": "name 's1' is not defined",
     "output_type": "error",
     "traceback": [
      "\u001b[1;31m---------------------------------------------------------------------------\u001b[0m",
      "\u001b[1;31mNameError\u001b[0m                                 Traceback (most recent call last)",
      "Cell \u001b[1;32mIn[25], line 1\u001b[0m\n\u001b[1;32m----> 1\u001b[0m s1\n",
      "\u001b[1;31mNameError\u001b[0m: name 's1' is not defined"
     ]
    }
   ],
   "source": [
    "s1"
   ]
  },
  {
   "cell_type": "code",
   "execution_count": 27,
   "id": "8f4ae0cf-fc10-4e70-be28-76901448a529",
   "metadata": {},
   "outputs": [],
   "source": [
    "s1 = \"wesley\""
   ]
  },
  {
   "cell_type": "code",
   "execution_count": 29,
   "id": "ba630656-03cd-49ac-a7dc-f1a651f2f2c9",
   "metadata": {},
   "outputs": [],
   "source": [
    "s2 = \"amaro\""
   ]
  },
  {
   "cell_type": "code",
   "execution_count": 31,
   "id": "4e821ee1-ebf2-43c1-9887-a6bf09e76924",
   "metadata": {},
   "outputs": [
    {
     "data": {
      "text/plain": [
       "False"
      ]
     },
     "execution_count": 31,
     "metadata": {},
     "output_type": "execute_result"
    }
   ],
   "source": [
    "s1 == s2"
   ]
  },
  {
   "cell_type": "code",
   "execution_count": 33,
   "id": "b9bcb9b8-4af3-4cf1-855c-548c1c8784d0",
   "metadata": {},
   "outputs": [
    {
     "data": {
      "text/plain": [
       "True"
      ]
     },
     "execution_count": 33,
     "metadata": {},
     "output_type": "execute_result"
    }
   ],
   "source": [
    "s2 != s1"
   ]
  },
  {
   "cell_type": "code",
   "execution_count": 35,
   "id": "f13da32c-1d9b-4e8b-8ad0-28315a40f365",
   "metadata": {},
   "outputs": [],
   "source": [
    "s3 = \"Silvia\""
   ]
  },
  {
   "cell_type": "code",
   "execution_count": null,
   "id": "be4eb9cb-2e46-43ec-bc21-931b4057d1f2",
   "metadata": {},
   "outputs": [],
   "source": []
  }
 ],
 "metadata": {
  "kernelspec": {
   "display_name": "Python [conda env:base] *",
   "language": "python",
   "name": "conda-base-py"
  },
  "language_info": {
   "codemirror_mode": {
    "name": "ipython",
    "version": 3
   },
   "file_extension": ".py",
   "mimetype": "text/x-python",
   "name": "python",
   "nbconvert_exporter": "python",
   "pygments_lexer": "ipython3",
   "version": "3.12.7"
  }
 },
 "nbformat": 4,
 "nbformat_minor": 5
}
