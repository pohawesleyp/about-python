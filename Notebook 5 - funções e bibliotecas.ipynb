{
  "cells": [
    {
      "cell_type": "markdown",
      "metadata": {
        "id": "tdbvGPEWozSy"
      },
      "source": [
        "# Aula 5 - funções\n",
        "\n",
        "Na aula de hoje, vamos explorar os seguintes tópicos em Python:\n",
        "\n",
        "- 1) Funções\n",
        "_____________\n",
        "\n",
        "### Problema gerador: como construir uma função que funcione como uma calculadora em Python?\n",
        "\n",
        "A função deve receber dois números, uma operação aritmética básica e retornar o resultado da operação."
      ]
    },
    {
      "cell_type": "markdown",
      "metadata": {
        "id": "velO87ueozS3"
      },
      "source": [
        "___\n",
        "___\n",
        "___\n"
      ]
    },
    {
      "cell_type": "markdown",
      "metadata": {
        "id": "kEcZs3YNozS6"
      },
      "source": [
        "## 1) Funções\n",
        "\n",
        "Até o momento, já vimos diversas funções em Python.\n",
        "\n",
        "- Na primeira aula, tivemos contato com a função `print()`, que exibe um texto na tela;\n",
        "\n",
        "- Depois, aprendemos sobre a função `input()`, que serve pra capturar algo que o usuário digita;\n",
        "\n",
        "- Em seguida, vimos algumas funções aplicada à listas, como a `sorted()`, para ordenar uma lista;\n"
      ]
    },
    {
      "cell_type": "code",
      "execution_count": null,
      "metadata": {
        "id": "zifnVD_EozS7",
        "colab": {
          "base_uri": "https://localhost:8080/"
        },
        "outputId": "5a0d9ed8-7632-4ebf-ffc2-320887d127c8"
      },
      "outputs": [
        {
          "output_type": "stream",
          "name": "stdout",
          "text": [
            "Olá, mundo!\n"
          ]
        }
      ],
      "source": [
        "print(\"Olá, mundo!\")"
      ]
    },
    {
      "cell_type": "code",
      "source": [
        "resultado = input(\"digite algo: \")"
      ],
      "metadata": {
        "colab": {
          "base_uri": "https://localhost:8080/"
        },
        "id": "FZgYEuGJpVDx",
        "outputId": "f0c6eec8-31b9-4142-8d09-5e025867484c"
      },
      "execution_count": null,
      "outputs": [
        {
          "name": "stdout",
          "output_type": "stream",
          "text": [
            "digite algo: ada\n"
          ]
        }
      ]
    },
    {
      "cell_type": "code",
      "source": [
        "lista = [4, 5, 6, 12, -4, -6]\n",
        "\n",
        "lista_ordenada = sorted(lista)"
      ],
      "metadata": {
        "id": "JPa78Zqwpc2M"
      },
      "execution_count": null,
      "outputs": []
    },
    {
      "cell_type": "markdown",
      "metadata": {
        "id": "kr_DoqgeozS-"
      },
      "source": [
        "\n",
        "A intuição sobre funções, então, já nos é familiar:\n",
        "\n",
        "Uma função é um objeto utilizado para **fazer determinadas ações**.\n",
        "\n",
        "Podemos ver uma função como uma \"caixinha\" que pega uma **entrada** (o argumento), faz algum **processamento**, e então **retorna uma saída** (o output)\n",
        "\n",
        "<img src=\"https://s3.amazonaws.com/illustrativemathematics/images/000/000/782/medium/Task_1_8c7a6a9a2e1421586c40f125bd783de3.jpg?1335065782\" width=300>\n",
        "\n",
        "\n",
        "<img src=\"https://1.bp.blogspot.com/_MhOt9n2UJbM/TC6emeqHdqI/AAAAAAAAAiQ/1brsWuWvOC0/s1600/function-machine.png\" width=300>\n"
      ]
    },
    {
      "cell_type": "markdown",
      "metadata": {
        "id": "Z1X_AlRwozTA"
      },
      "source": [
        "Aprenderemos agora como criar **nossas próprias funções** em Python!"
      ]
    },
    {
      "cell_type": "markdown",
      "metadata": {
        "id": "vSZBCZVmozTB"
      },
      "source": [
        "A estrutura de **definição de uma função** é dada por:\n",
        "\n",
        "```python\n",
        "def nome_da_funcao(argumentos):\n",
        "    \n",
        "    instrucoes\n",
        "    \n",
        "    return saida\n",
        "```"
      ]
    },
    {
      "cell_type": "markdown",
      "metadata": {
        "id": "kGtv3zcvozTD"
      },
      "source": [
        "Há 5 elementos fundamentais para a criação de novas funções em Python:\n",
        "\n",
        "- Primeiramente, usamos \"def\" para deixar claro que estamos **definindo** uma função;\n",
        "- Depois, damos um **nome** para nossa função;\n",
        "- Em parênteses, falamos quais serão os **argumentos** da função -- esses são os inputs, e em python, esses elementos são opcionais!\n",
        "- Depois, explicitamos qual é o **processamento** feito pela função;\n",
        "- Ao fim, dizemos o que a função irá **retornar** -- esses são os outputs, e em Python esse elemento é opcional!"
      ]
    },
    {
      "cell_type": "markdown",
      "metadata": {
        "id": "1mM-r8_JozTE"
      },
      "source": [
        "Sempre que quisermos **executar** uma função, basta **chamá-la**, dando os argumentos desejados!\n",
        "\n",
        "```python\n",
        "nome_da_funcao(argumentos)\n",
        "```"
      ]
    },
    {
      "cell_type": "markdown",
      "metadata": {
        "id": "etdpbEm1ozTG"
      },
      "source": [
        "__Uma função sem argumentos e sem return__\n",
        "\n",
        "Apenas imprime algo na tela, mas sempre A MESMA COISA\n"
      ]
    },
    {
      "cell_type": "code",
      "execution_count": null,
      "metadata": {
        "id": "qJomXZhsozTG"
      },
      "outputs": [],
      "source": [
        "def fala_oi():\n",
        "\n",
        "  print(\"Oi!\")"
      ]
    },
    {
      "cell_type": "markdown",
      "metadata": {
        "id": "ce8e71r2ozTH"
      },
      "source": [
        "__Chamando a função__"
      ]
    },
    {
      "cell_type": "code",
      "execution_count": null,
      "metadata": {
        "id": "woLw19v7ozTI",
        "colab": {
          "base_uri": "https://localhost:8080/"
        },
        "outputId": "91f74163-154c-454d-e4d0-a92a1a2fe9fe"
      },
      "outputs": [
        {
          "output_type": "stream",
          "name": "stdout",
          "text": [
            "Oi!\n"
          ]
        }
      ],
      "source": [
        "fala_oi()"
      ]
    },
    {
      "cell_type": "markdown",
      "metadata": {
        "id": "K3K-LRXFozTI"
      },
      "source": [
        "__Uma função com argumento, mas sem return__\n",
        "\n",
        "Imprime o que eu mandar na tela, como argumento!"
      ]
    },
    {
      "cell_type": "code",
      "execution_count": null,
      "metadata": {
        "id": "M5zpDL1rozTK"
      },
      "outputs": [],
      "source": [
        "def fala_oi_pra_alguem(nome_de_alguem):\n",
        "\n",
        "  print(f\"Oi {nome_de_alguem}, que bom te ver!\")"
      ]
    },
    {
      "cell_type": "code",
      "source": [
        "fala_oi_pra_alguem(\"André\")"
      ],
      "metadata": {
        "colab": {
          "base_uri": "https://localhost:8080/"
        },
        "id": "NiHEp2y9rcQ3",
        "outputId": "83a3f845-2159-4830-e3e1-0125e9c1836d"
      },
      "execution_count": null,
      "outputs": [
        {
          "output_type": "stream",
          "name": "stdout",
          "text": [
            "Oi André, que bom te ver!\n"
          ]
        }
      ]
    },
    {
      "cell_type": "code",
      "source": [
        "fala_oi_pra_alguem(nome_de_alguem = \"André\")"
      ],
      "metadata": {
        "colab": {
          "base_uri": "https://localhost:8080/"
        },
        "id": "j7RSeM3brogI",
        "outputId": "eeeba1d7-13dd-4e4d-e046-0037e5cd569f"
      },
      "execution_count": null,
      "outputs": [
        {
          "output_type": "stream",
          "name": "stdout",
          "text": [
            "Oi André, que bom te ver!\n"
          ]
        }
      ]
    },
    {
      "cell_type": "code",
      "source": [
        "fala_oi_pra_alguem(\"Maria\")"
      ],
      "metadata": {
        "colab": {
          "base_uri": "https://localhost:8080/"
        },
        "id": "Uho1bVmCrg1G",
        "outputId": "843fdb74-8f20-43cb-c8c4-07f9618e12ed"
      },
      "execution_count": null,
      "outputs": [
        {
          "output_type": "stream",
          "name": "stdout",
          "text": [
            "Oi Maria, que bom te ver!\n"
          ]
        }
      ]
    },
    {
      "cell_type": "markdown",
      "metadata": {
        "id": "ew0pz0qKozTL"
      },
      "source": [
        "__Uma função com dois argumentos, mas ainda sem return__\n",
        "\n",
        "Imprime algo na tela, mas dependendo do segundo argumento que eu passar"
      ]
    },
    {
      "cell_type": "code",
      "source": [
        "nome=\"André\"\n",
        "cumprimento = \"Bom dia\"\n",
        "cumprimento = f\"{cumprimento}, {nome}\"\n",
        "\n",
        "cumprimento"
      ],
      "metadata": {
        "colab": {
          "base_uri": "https://localhost:8080/",
          "height": 35
        },
        "id": "-NsFw0b4spLA",
        "outputId": "44e7852a-b049-4045-cfe8-c408e0f33168"
      },
      "execution_count": null,
      "outputs": [
        {
          "output_type": "execute_result",
          "data": {
            "text/plain": [
              "'Bom dia, André'"
            ],
            "application/vnd.google.colaboratory.intrinsic+json": {
              "type": "string"
            }
          },
          "metadata": {},
          "execution_count": 15
        }
      ]
    },
    {
      "cell_type": "code",
      "execution_count": null,
      "metadata": {
        "id": "bY-3TsLlozTM"
      },
      "outputs": [],
      "source": [
        "def cumprimenta_parte_do_dia(nome, parte_do_dia):\n",
        "  '''\n",
        "  esta função recebe um nome e uma parte do dia, e imprime na tela um\n",
        "  cumprimento de acordo com esses dois argumentos\n",
        "\n",
        "  - nome (str): qualquer nome própiro;\n",
        "  - parte_do_dia (str): deve ser unicamente uma das três opções: [\"manhã\", \"tarde\", \"noite\"]\n",
        "  '''\n",
        "\n",
        "  if parte_do_dia == \"manhã\":\n",
        "    cumprimento = \"Bom dia\"\n",
        "  elif parte_do_dia == \"tarde\":\n",
        "    cumprimento = \"Boa tarde\"\n",
        "  elif parte_do_dia == \"noite\":\n",
        "    cumprimento = \"Boa noite\"\n",
        "  else:\n",
        "    raise ValueError(f\"A parte do dia informada ({parte_do_dia}) não é válida!\")\n",
        "\n",
        "  cumprimento = f\"{cumprimento}, {nome}\"\n",
        "\n",
        "  print(cumprimento)"
      ]
    },
    {
      "cell_type": "code",
      "source": [
        "cumprimenta_parte_do_dia(\"André\", \"tarde\")"
      ],
      "metadata": {
        "colab": {
          "base_uri": "https://localhost:8080/"
        },
        "id": "2UV9_FhctN1t",
        "outputId": "328210b6-95e8-4cb4-8b2f-d4b997890746"
      },
      "execution_count": null,
      "outputs": [
        {
          "output_type": "stream",
          "name": "stdout",
          "text": [
            "Boa tarde, André\n"
          ]
        }
      ]
    },
    {
      "cell_type": "code",
      "source": [
        "cumprimenta_parte_do_dia(nome=\"André\", parte_do_dia=\"tarde\")"
      ],
      "metadata": {
        "colab": {
          "base_uri": "https://localhost:8080/"
        },
        "id": "5UdVHEaVv93h",
        "outputId": "38e97f4b-0fc7-490d-b55b-f75dadc325e4"
      },
      "execution_count": null,
      "outputs": [
        {
          "output_type": "stream",
          "name": "stdout",
          "text": [
            "Boa tarde, André\n"
          ]
        }
      ]
    },
    {
      "cell_type": "markdown",
      "metadata": {
        "id": "R02WOaJCozTM"
      },
      "source": [
        "Posso mudar a ordem dos argumentos, mas pra isso devo explicitar exatamente quais são os valores que estou passando para quais argumentos!"
      ]
    },
    {
      "cell_type": "code",
      "execution_count": null,
      "metadata": {
        "id": "DHwqxaC2ozTN",
        "colab": {
          "base_uri": "https://localhost:8080/",
          "height": 288
        },
        "outputId": "37d74ba6-ace0-4ab2-cc41-ee5fe9e1e8be"
      },
      "outputs": [
        {
          "output_type": "error",
          "ename": "ValueError",
          "evalue": "ignored",
          "traceback": [
            "\u001b[0;31m---------------------------------------------------------------------------\u001b[0m",
            "\u001b[0;31mValueError\u001b[0m                                Traceback (most recent call last)",
            "\u001b[0;32m<ipython-input-25-1c2ce27a8485>\u001b[0m in \u001b[0;36m<module>\u001b[0;34m\u001b[0m\n\u001b[0;32m----> 1\u001b[0;31m \u001b[0mcumprimenta_parte_do_dia\u001b[0m\u001b[0;34m(\u001b[0m\u001b[0;34m\"tarde\"\u001b[0m\u001b[0;34m,\u001b[0m \u001b[0;34m\"André\"\u001b[0m\u001b[0;34m)\u001b[0m\u001b[0;34m\u001b[0m\u001b[0;34m\u001b[0m\u001b[0m\n\u001b[0m",
            "\u001b[0;32m<ipython-input-22-2e435b9ce13e>\u001b[0m in \u001b[0;36mcumprimenta_parte_do_dia\u001b[0;34m(nome, parte_do_dia)\u001b[0m\n\u001b[1;32m     15\u001b[0m     \u001b[0mcumprimento\u001b[0m \u001b[0;34m=\u001b[0m \u001b[0;34m\"Boa noite\"\u001b[0m\u001b[0;34m\u001b[0m\u001b[0;34m\u001b[0m\u001b[0m\n\u001b[1;32m     16\u001b[0m   \u001b[0;32melse\u001b[0m\u001b[0;34m:\u001b[0m\u001b[0;34m\u001b[0m\u001b[0;34m\u001b[0m\u001b[0m\n\u001b[0;32m---> 17\u001b[0;31m     \u001b[0;32mraise\u001b[0m \u001b[0mValueError\u001b[0m\u001b[0;34m(\u001b[0m\u001b[0;34mf\"A parte do dia informada ({parte_do_dia}) não é válida!\"\u001b[0m\u001b[0;34m)\u001b[0m\u001b[0;34m\u001b[0m\u001b[0;34m\u001b[0m\u001b[0m\n\u001b[0m\u001b[1;32m     18\u001b[0m \u001b[0;34m\u001b[0m\u001b[0m\n\u001b[1;32m     19\u001b[0m   \u001b[0mcumprimento\u001b[0m \u001b[0;34m=\u001b[0m \u001b[0;34mf\"{cumprimento}, {nome}\"\u001b[0m\u001b[0;34m\u001b[0m\u001b[0;34m\u001b[0m\u001b[0m\n",
            "\u001b[0;31mValueError\u001b[0m: A parte do dia informada (André) não é válida!"
          ]
        }
      ],
      "source": [
        "cumprimenta_parte_do_dia(\"tarde\", \"André\")"
      ]
    },
    {
      "cell_type": "code",
      "source": [
        "cumprimenta_parte_do_dia(parte_do_dia=\"tarde\", nome=\"André\")"
      ],
      "metadata": {
        "colab": {
          "base_uri": "https://localhost:8080/"
        },
        "id": "Pi171Z7QwUVG",
        "outputId": "68c36d80-1f77-42fd-f47c-fb19ef9643a5"
      },
      "execution_count": null,
      "outputs": [
        {
          "output_type": "stream",
          "name": "stdout",
          "text": [
            "Boa tarde, André\n"
          ]
        }
      ]
    },
    {
      "cell_type": "markdown",
      "metadata": {
        "id": "xKA5X52jozTO"
      },
      "source": [
        "__Mas e o return?__\n",
        "\n",
        "\n",
        "Todas as funções acima de fato fazem alguma operação, mas nõs não conseguimos **acessar** o resultado das operações! Veja um exemplo mais claro: uma função que calcula a soma de dois números:"
      ]
    },
    {
      "cell_type": "code",
      "source": [
        "def cumprimenta_parte_do_dia(nome, parte_do_dia):\n",
        "  '''\n",
        "  esta função recebe um nome e uma parte do dia, e imprime na tela um\n",
        "  cumprimento de acordo com esses dois argumentos\n",
        "\n",
        "  - nome (str): qualquer nome própiro;\n",
        "  - parte_do_dia (str): deve ser unicamente uma das três opções: [\"manhã\", \"tarde\", \"noite\"]\n",
        "  '''\n",
        "\n",
        "  if parte_do_dia == \"manhã\":\n",
        "    cumprimento = \"Bom dia\"\n",
        "  elif parte_do_dia == \"tarde\":\n",
        "    cumprimento = \"Boa tarde\"\n",
        "  elif parte_do_dia == \"noite\":\n",
        "    cumprimento = \"Boa noite\"\n",
        "  else:\n",
        "    raise ValueError(f\"A parte do dia informada ({parte_do_dia}) não é válida!\")\n",
        "\n",
        "  cumprimento = f\"{cumprimento}, {nome}\"\n",
        "\n",
        "  print(cumprimento)\n",
        "\n",
        "  return cumprimento"
      ],
      "metadata": {
        "id": "-QsGQ7qPwsF3"
      },
      "execution_count": null,
      "outputs": []
    },
    {
      "cell_type": "code",
      "source": [
        "resultado_cumprimento = cumprimenta_parte_do_dia(nome=\"André\", parte_do_dia=\"tarde\")"
      ],
      "metadata": {
        "colab": {
          "base_uri": "https://localhost:8080/"
        },
        "id": "wW7CUjXaw9AP",
        "outputId": "60e21058-cc70-4e90-cb19-a7ccb687e8ec"
      },
      "execution_count": null,
      "outputs": [
        {
          "output_type": "stream",
          "name": "stdout",
          "text": [
            "Boa tarde, André\n"
          ]
        }
      ]
    },
    {
      "cell_type": "code",
      "source": [
        "resultado_cumprimento"
      ],
      "metadata": {
        "colab": {
          "base_uri": "https://localhost:8080/",
          "height": 35
        },
        "id": "BBNzz2fFxEjZ",
        "outputId": "fa4d1ec3-7d2f-4a11-9d41-662d86bb41a8"
      },
      "execution_count": null,
      "outputs": [
        {
          "output_type": "execute_result",
          "data": {
            "text/plain": [
              "'Boa tarde, André'"
            ],
            "application/vnd.google.colaboratory.intrinsic+json": {
              "type": "string"
            }
          },
          "metadata": {},
          "execution_count": 32
        }
      ]
    },
    {
      "cell_type": "code",
      "source": [
        "def calcula_soma(n1, n2):\n",
        "\n",
        "  soma = n1 + n2\n",
        "\n",
        "  return soma"
      ],
      "metadata": {
        "id": "FC6GxJzJxK5i"
      },
      "execution_count": null,
      "outputs": []
    },
    {
      "cell_type": "markdown",
      "metadata": {
        "id": "4gV9C9PwozTQ"
      },
      "source": [
        "Note que a função calcula a soma dos números, mas apenas exibe este resultado com o print!\n",
        "\n",
        "**A variável \"soma\" é uma variável que existe apenas no interior da função!!**"
      ]
    },
    {
      "cell_type": "code",
      "execution_count": null,
      "metadata": {
        "id": "ut2zuGv3ozTR",
        "colab": {
          "base_uri": "https://localhost:8080/"
        },
        "outputId": "8dc2d08c-201f-4579-c87c-fc93f4455db6"
      },
      "outputs": [
        {
          "output_type": "execute_result",
          "data": {
            "text/plain": [
              "1.6666666666666667"
            ]
          },
          "metadata": {},
          "execution_count": 41
        }
      ],
      "source": [
        "r1 = calcula_soma(2, 3)\n",
        "r2 = calcula_soma(1, 2)\n",
        "\n",
        "r1/r2"
      ]
    },
    {
      "cell_type": "markdown",
      "metadata": {
        "id": "VD5HRgIlozTR"
      },
      "source": [
        "Se quisermos armazenar o valor da soma, podemos **retornar** o valor desta variável!\n",
        "\n",
        "**OBS.:** apenas o **valor** da variável é retornado, não o nome dela!!\n",
        "\n",
        "Fora da função, o nome de variável \"soma\" ainda continua não existindo!!"
      ]
    },
    {
      "cell_type": "code",
      "execution_count": null,
      "metadata": {
        "id": "qNwRbVOQozTS",
        "colab": {
          "base_uri": "https://localhost:8080/",
          "height": 166
        },
        "outputId": "ae36322f-109b-4651-d4c0-7f2052b79feb"
      },
      "outputs": [
        {
          "output_type": "error",
          "ename": "NameError",
          "evalue": "ignored",
          "traceback": [
            "\u001b[0;31m---------------------------------------------------------------------------\u001b[0m",
            "\u001b[0;31mNameError\u001b[0m                                 Traceback (most recent call last)",
            "\u001b[0;32m<ipython-input-42-ac2450a231f3>\u001b[0m in \u001b[0;36m<module>\u001b[0;34m\u001b[0m\n\u001b[0;32m----> 1\u001b[0;31m \u001b[0msoma\u001b[0m\u001b[0;34m\u001b[0m\u001b[0;34m\u001b[0m\u001b[0m\n\u001b[0m",
            "\u001b[0;31mNameError\u001b[0m: name 'soma' is not defined"
          ]
        }
      ],
      "source": [
        "soma"
      ]
    },
    {
      "cell_type": "markdown",
      "metadata": {
        "id": "0_DM7KCbozTT"
      },
      "source": [
        "Daí, basta armazenar o resultado retornado em uma variável, **como fazíamos com o input()!**"
      ]
    },
    {
      "cell_type": "code",
      "execution_count": null,
      "metadata": {
        "id": "ojm_sZBUozTT"
      },
      "outputs": [],
      "source": [
        "soma = calcula_soma(2, 3)"
      ]
    },
    {
      "cell_type": "markdown",
      "metadata": {
        "id": "sLJKOdP9ozTU"
      },
      "source": [
        "Um outro exemplo:"
      ]
    },
    {
      "cell_type": "code",
      "source": [
        "def calcula_soma(n1, n2):\n",
        "  return n1 + n2"
      ],
      "metadata": {
        "id": "swFhpRKfyg4Q"
      },
      "execution_count": null,
      "outputs": []
    },
    {
      "cell_type": "code",
      "execution_count": null,
      "metadata": {
        "id": "k0VVGIUoozTU"
      },
      "outputs": [],
      "source": [
        "def calcula_subtracao(n1, n2):\n",
        "  return n1 - n2"
      ]
    },
    {
      "cell_type": "code",
      "source": [
        "def calcula_multiplicacao(n1, n2):\n",
        "  return n1*n2"
      ],
      "metadata": {
        "id": "5emD2iglykMD"
      },
      "execution_count": null,
      "outputs": []
    },
    {
      "cell_type": "code",
      "source": [
        "def calcula_divisao(n1, n2):\n",
        "  '''\n",
        "  esta função calcula o quociente entre o primeiro argumento e o segundo\n",
        "\n",
        "  - n1 (float), numerador\n",
        "  - n2 (float), denominador, deve ser != 0\n",
        "  '''\n",
        "\n",
        "  return n1/n2"
      ],
      "metadata": {
        "id": "PDp9h0uJyoUq"
      },
      "execution_count": null,
      "outputs": []
    },
    {
      "cell_type": "code",
      "source": [
        "calcula_subtracao(1, 5)"
      ],
      "metadata": {
        "colab": {
          "base_uri": "https://localhost:8080/"
        },
        "id": "PNwiWSSVyYYw",
        "outputId": "345eeec9-d3bd-408e-dbc5-21d9a10d607a"
      },
      "execution_count": null,
      "outputs": [
        {
          "output_type": "execute_result",
          "data": {
            "text/plain": [
              "-4"
            ]
          },
          "metadata": {},
          "execution_count": 45
        }
      ]
    },
    {
      "cell_type": "markdown",
      "metadata": {
        "id": "BRmB62DfozTV"
      },
      "source": [
        "Vamos elaborar um pouco mais?\n",
        "\n",
        "### Vamos resolver nosso problema gerador!\n",
        "\n",
        "Criaremos agora nossa função de calculadora.\n"
      ]
    },
    {
      "cell_type": "code",
      "execution_count": null,
      "metadata": {
        "id": "Ec6Srp5AozTV"
      },
      "outputs": [],
      "source": [
        "def calcula_operacao(n1, n2, op):\n",
        "  '''\n",
        "  - n1 (float)\n",
        "  - n2 (float)\n",
        "  - op (str): indicando a operação a ser feita [\"+\", \"-\", \"*\", \"/\"]\n",
        "\n",
        "  returns:\n",
        "\n",
        "  n1 [op] n2, onde [op] é a operação correspondente à string op\n",
        "  '''\n",
        "\n",
        "  if op == \"+\":\n",
        "    return calcula_soma(n1, n2)\n",
        "  elif op == \"-\":\n",
        "    return calcula_subtracao(n1, n2)\n",
        "  elif op == \"*\":\n",
        "    return calcula_multiplicacao(n1, n2)\n",
        "  elif op == \"/\":\n",
        "    return calcula_divisao(n1, n2)\n",
        "  else:\n",
        "    raise ValueError(f\"A operação informada ({op}) não é válida!\")"
      ]
    },
    {
      "cell_type": "code",
      "source": [
        "calcula_operacao(2, 3, \"%\")"
      ],
      "metadata": {
        "colab": {
          "base_uri": "https://localhost:8080/",
          "height": 270
        },
        "id": "QR0EhJoo0ENA",
        "outputId": "a647fa4c-bdbf-438d-d422-e66b3740eb1c"
      },
      "execution_count": null,
      "outputs": [
        {
          "output_type": "error",
          "ename": "ValueError",
          "evalue": "ignored",
          "traceback": [
            "\u001b[0;31m---------------------------------------------------------------------------\u001b[0m",
            "\u001b[0;31mValueError\u001b[0m                                Traceback (most recent call last)",
            "\u001b[0;32m<ipython-input-58-5a2d008a27c6>\u001b[0m in \u001b[0;36m<module>\u001b[0;34m\u001b[0m\n\u001b[0;32m----> 1\u001b[0;31m \u001b[0mcalcula_operacao\u001b[0m\u001b[0;34m(\u001b[0m\u001b[0;36m2\u001b[0m\u001b[0;34m,\u001b[0m \u001b[0;36m3\u001b[0m\u001b[0;34m,\u001b[0m \u001b[0;34m\"%\"\u001b[0m\u001b[0;34m)\u001b[0m\u001b[0;34m\u001b[0m\u001b[0;34m\u001b[0m\u001b[0m\n\u001b[0m",
            "\u001b[0;32m<ipython-input-57-8b568469648d>\u001b[0m in \u001b[0;36mcalcula_operacao\u001b[0;34m(n1, n2, op)\u001b[0m\n\u001b[1;32m     19\u001b[0m     \u001b[0;32mreturn\u001b[0m \u001b[0mcalcula_divisao\u001b[0m\u001b[0;34m(\u001b[0m\u001b[0mn1\u001b[0m\u001b[0;34m,\u001b[0m \u001b[0mn2\u001b[0m\u001b[0;34m)\u001b[0m\u001b[0;34m\u001b[0m\u001b[0;34m\u001b[0m\u001b[0m\n\u001b[1;32m     20\u001b[0m   \u001b[0;32melse\u001b[0m\u001b[0;34m:\u001b[0m\u001b[0;34m\u001b[0m\u001b[0;34m\u001b[0m\u001b[0m\n\u001b[0;32m---> 21\u001b[0;31m     \u001b[0;32mraise\u001b[0m \u001b[0mValueError\u001b[0m\u001b[0;34m(\u001b[0m\u001b[0;34mf\"A operação informada ({op}) não é válida!\"\u001b[0m\u001b[0;34m)\u001b[0m\u001b[0;34m\u001b[0m\u001b[0;34m\u001b[0m\u001b[0m\n\u001b[0m\u001b[1;32m     22\u001b[0m \u001b[0;34m\u001b[0m\u001b[0m\n",
            "\u001b[0;31mValueError\u001b[0m: A operação informada (%) não é válida!"
          ]
        }
      ]
    },
    {
      "cell_type": "code",
      "source": [
        "def calcula_operacao(n1, n2, op):\n",
        "  '''\n",
        "  - n1 (float)\n",
        "  - n2 (float)\n",
        "  - op (str): indicando a operação a ser feita [\"+\", \"-\", \"*\", \"/\"]\n",
        "\n",
        "  returns:\n",
        "\n",
        "  n1 [op] n2, onde [op] é a operação correspondente à string op\n",
        "  '''\n",
        "\n",
        "  if op == \"+\":\n",
        "    resp = calcula_soma(n1, n2)\n",
        "  elif op == \"-\":\n",
        "    resp = calcula_subtracao(n1, n2)\n",
        "  elif op == \"*\":\n",
        "    resp =  calcula_multiplicacao(n1, n2)\n",
        "  elif op == \"/\":\n",
        "    resp =  calcula_divisao(n1, n2)\n",
        "  else:\n",
        "    raise ValueError(f\"A operação informada ({op}) não é válida!\")\n",
        "\n",
        "  return resp"
      ],
      "metadata": {
        "id": "5OdyN4Z60HlI"
      },
      "execution_count": null,
      "outputs": []
    },
    {
      "cell_type": "code",
      "source": [
        "calcula_operacao(2, 3, \"+\")"
      ],
      "metadata": {
        "colab": {
          "base_uri": "https://localhost:8080/"
        },
        "id": "nXxZxV9x1Dzm",
        "outputId": "270347f7-f933-470c-cc49-5857e2ed4ad2"
      },
      "execution_count": null,
      "outputs": [
        {
          "output_type": "execute_result",
          "data": {
            "text/plain": [
              "5"
            ]
          },
          "metadata": {},
          "execution_count": 60
        }
      ]
    }
  ],
  "metadata": {
    "kernelspec": {
      "display_name": "Python 3",
      "language": "python",
      "name": "python3"
    },
    "language_info": {
      "codemirror_mode": {
        "name": "ipython",
        "version": 3
      },
      "file_extension": ".py",
      "mimetype": "text/x-python",
      "name": "python",
      "nbconvert_exporter": "python",
      "pygments_lexer": "ipython3",
      "version": "3.8.3"
    },
    "varInspector": {
      "cols": {
        "lenName": 16,
        "lenType": 16,
        "lenVar": 40
      },
      "kernels_config": {
        "python": {
          "delete_cmd_postfix": "",
          "delete_cmd_prefix": "del ",
          "library": "var_list.py",
          "varRefreshCmd": "print(var_dic_list())"
        },
        "r": {
          "delete_cmd_postfix": ") ",
          "delete_cmd_prefix": "rm(",
          "library": "var_list.r",
          "varRefreshCmd": "cat(var_dic_list()) "
        }
      },
      "types_to_exclude": [
        "module",
        "function",
        "builtin_function_or_method",
        "instance",
        "_Feature"
      ],
      "window_display": false
    },
    "colab": {
      "provenance": []
    }
  },
  "nbformat": 4,
  "nbformat_minor": 0
}