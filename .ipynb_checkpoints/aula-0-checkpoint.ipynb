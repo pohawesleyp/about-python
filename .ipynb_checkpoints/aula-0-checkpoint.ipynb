{
 "cells": [
  {
   "cell_type": "code",
   "execution_count": 1,
   "id": "17ec2f53-49cf-40ce-b057-0906b60c87c5",
   "metadata": {},
   "outputs": [
    {
     "data": {
      "text/plain": [
       "4"
      ]
     },
     "execution_count": 1,
     "metadata": {},
     "output_type": "execute_result"
    }
   ],
   "source": [
    "2+2"
   ]
  },
  {
   "cell_type": "code",
   "execution_count": 3,
   "id": "d5091a1d-87a5-4a81-b3b1-1a863d625e41",
   "metadata": {},
   "outputs": [
    {
     "name": "stdout",
     "output_type": "stream",
     "text": [
      "Olá, mundo!\n"
     ]
    }
   ],
   "source": [
    "print(\"Olá, mundo!\");"
   ]
  },
  {
   "cell_type": "code",
   "execution_count": 5,
   "id": "476a5867-37d3-4d7b-a737-217284748991",
   "metadata": {},
   "outputs": [
    {
     "name": "stdout",
     "output_type": "stream",
     "text": [
      "4\n"
     ]
    }
   ],
   "source": [
    "print(2+2);"
   ]
  },
  {
   "cell_type": "code",
   "execution_count": 7,
   "id": "b13b73e5-b225-42d4-ae7c-80a317d930c3",
   "metadata": {},
   "outputs": [
    {
     "data": {
      "text/plain": [
       "4"
      ]
     },
     "execution_count": 7,
     "metadata": {},
     "output_type": "execute_result"
    }
   ],
   "source": [
    "2+2"
   ]
  },
  {
   "cell_type": "code",
   "execution_count": 15,
   "id": "b38bab12-2ee1-470c-8f6a-c5e0879eb13f",
   "metadata": {},
   "outputs": [],
   "source": [
    "meu_numero = 2+3"
   ]
  },
  {
   "cell_type": "raw",
   "id": "97696f01-95c4-405f-8ee0-c0a103111ba7",
   "metadata": {},
   "source": []
  },
  {
   "cell_type": "code",
   "execution_count": 11,
   "id": "b3d2ed1d-0ff1-43f8-b5c9-2d863e44c7b6",
   "metadata": {},
   "outputs": [
    {
     "name": "stdout",
     "output_type": "stream",
     "text": [
      "5\n"
     ]
    }
   ],
   "source": [
    "print(meu_numero);"
   ]
  },
  {
   "cell_type": "code",
   "execution_count": 17,
   "id": "941d2b14-1c16-470c-91ef-07d3d1d1aefa",
   "metadata": {},
   "outputs": [],
   "source": [
    "variavel = 1+2\n",
    "x = 2*3"
   ]
  },
  {
   "cell_type": "code",
   "execution_count": 19,
   "id": "b4af553d-afe6-42f0-9de5-ac79b59d018a",
   "metadata": {},
   "outputs": [
    {
     "name": "stdout",
     "output_type": "stream",
     "text": [
      "3 6\n"
     ]
    }
   ],
   "source": [
    "print(variavel, x);"
   ]
  },
  {
   "cell_type": "code",
   "execution_count": 21,
   "id": "890338c7-91cc-471d-ad92-903692b971e1",
   "metadata": {},
   "outputs": [
    {
     "name": "stdout",
     "output_type": "stream",
     "text": [
      "Olá Wesley , tudo bem?\n"
     ]
    }
   ],
   "source": [
    "nome = \"Wesley\"\n",
    "\n",
    "print(\"Olá\", nome, \", tudo bem?\");"
   ]
  },
  {
   "cell_type": "code",
   "execution_count": null,
   "id": "2fb1495c-f605-4f8e-9b54-92207ad92b49",
   "metadata": {},
   "outputs": [],
   "source": []
  }
 ],
 "metadata": {
  "kernelspec": {
   "display_name": "Python [conda env:base] *",
   "language": "python",
   "name": "conda-base-py"
  },
  "language_info": {
   "codemirror_mode": {
    "name": "ipython",
    "version": 3
   },
   "file_extension": ".py",
   "mimetype": "text/x-python",
   "name": "python",
   "nbconvert_exporter": "python",
   "pygments_lexer": "ipython3",
   "version": "3.12.7"
  }
 },
 "nbformat": 4,
 "nbformat_minor": 5
}
