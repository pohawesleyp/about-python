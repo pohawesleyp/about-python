{
 "cells": [
  {
   "cell_type": "code",
   "execution_count": 4,
   "id": "5b700f65-5488-420a-aaf2-1730f062ef32",
   "metadata": {},
   "outputs": [
    {
     "data": {
      "text/plain": [
       "int"
      ]
     },
     "execution_count": 4,
     "metadata": {},
     "output_type": "execute_result"
    }
   ],
   "source": [
    "numero_de_filhos = 1\n",
    "\n",
    "type(numero_de_filhos)"
   ]
  },
  {
   "cell_type": "code",
   "execution_count": null,
   "id": "81d2ac8f-d3f7-4efd-8ccf-6b510f440f50",
   "metadata": {},
   "outputs": [],
   "source": [
    "wesley"
   ]
  },
  {
   "cell_type": "code",
   "execution_count": 6,
   "id": "9f9ca966-8f8a-44f0-ab80-b8889c2bd25f",
   "metadata": {},
   "outputs": [
    {
     "ename": "NameError",
     "evalue": "name 'true' is not defined",
     "output_type": "error",
     "traceback": [
      "\u001b[1;31m---------------------------------------------------------------------------\u001b[0m",
      "\u001b[1;31mNameError\u001b[0m                                 Traceback (most recent call last)",
      "Cell \u001b[1;32mIn[6], line 1\u001b[0m\n\u001b[1;32m----> 1\u001b[0m true\n",
      "\u001b[1;31mNameError\u001b[0m: name 'true' is not defined"
     ]
    }
   ],
   "source": [
    "true"
   ]
  },
  {
   "cell_type": "code",
   "execution_count": 8,
   "id": "c9a66770-5f87-4e0c-9224-31b58c01fbdd",
   "metadata": {},
   "outputs": [
    {
     "data": {
      "text/plain": [
       "True"
      ]
     },
     "execution_count": 8,
     "metadata": {},
     "output_type": "execute_result"
    }
   ],
   "source": [
    "True"
   ]
  },
  {
   "cell_type": "code",
   "execution_count": null,
   "id": "7d0ebb33-9123-419f-8472-1e5677f1a29b",
   "metadata": {},
   "outputs": [],
   "source": []
  }
 ],
 "metadata": {
  "kernelspec": {
   "display_name": "Python [conda env:base] *",
   "language": "python",
   "name": "conda-base-py"
  },
  "language_info": {
   "codemirror_mode": {
    "name": "ipython",
    "version": 3
   },
   "file_extension": ".py",
   "mimetype": "text/x-python",
   "name": "python",
   "nbconvert_exporter": "python",
   "pygments_lexer": "ipython3",
   "version": "3.12.7"
  }
 },
 "nbformat": 4,
 "nbformat_minor": 5
}
